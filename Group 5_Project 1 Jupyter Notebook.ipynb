{
 "cells": [
  {
   "cell_type": "code",
   "execution_count": null,
   "metadata": {},
   "outputs": [],
   "source": [
    "import os\n",
    "import csv\n",
    "import numpy as np\n",
    "import pandas as pd\n",
    "import matplotlib.pyplot as plt\n",
    "\n",
    "# COMPOSITE 2008-2016 VOTING\n",
    "county_votes = \"US County Votes_FINAL.csv\"\n",
    "votes_df = pd.read_csv(county_votes, encoding = \"utf-8\")\n",
    "#votes_df.head()\n",
    "\n",
    "# 2008, 2012, 2016 ELECTION CYCLE VOTING\n",
    "county_votes_yr = \"US County Votes_FINAL_1.csv\"\n",
    "votes_df_yr = pd.read_csv(county_votes, encoding = \"utf-8\")\n",
    "#votes_df_yr.head()"
   ]
  },
  {
   "cell_type": "code",
   "execution_count": null,
   "metadata": {},
   "outputs": [],
   "source": [
    "#LEVEL OF EDUCATION BY 2008-2016 AVERAGE VOTING\n",
    "education = \"US County Education_FINAL.csv\"\n",
    "ed_df = pd.read_csv(education, encoding=\"utf-8\")\n",
    "#ed_df.head()\n",
    "\n",
    "education = pd.merge(votes_df, ed_df, on=\"FIPS\", how=\"inner\")\n",
    "education[education.columns] = education[education.columns].apply(pd.to_numeric, errors=\"ignore\")\n",
    "#education.head()\n",
    "\n",
    "# EDUCATION BY COMPOSITE ELECTION CYCLES \n",
    "education_df = pd.DataFrame(education.groupby([\"Party 2008-2016\"]).mean())\n",
    "education_df.head()"
   ]
  },
  {
   "cell_type": "code",
   "execution_count": null,
   "metadata": {
    "collapsed": true
   },
   "outputs": [],
   "source": [
    "#VOTES BY DEMOGRAPHICS\n",
    "demographics = \"Demographics_FINAL.csv\"\n",
    "demog_df = pd.read_csv(demographics, encoding = \"utf-8\")\n",
    "#demog_df.head()\n",
    "\n",
    "demographics_df = pd.merge(votes_df_yr, demog_df, on=\"FIPS\", how=\"inner\")\n",
    "#demographics_df.head()\n",
    "\n",
    "# SEPARATE BY ELECTION CYCLE\n",
    "dem08 = demographics_df.groupby([\"Party 2008\"]).mean()\n",
    "dem12 = demographics_df.groupby([\"Party 2012\"]).mean()\n",
    "dem16 = demographics_df.groupby([\"Party 2016\"]).mean()\n",
    "dem_all = demographics_df.groupby([\"Party 2008-2016\"]).mean()\n",
    "\n",
    "#Export Excel files to apply bar graph template\n",
    "dem08.to_excel(\"Demographics_2008.xlsx\", index=True)\n",
    "dem12.to_excel(\"Demographics_2012.xlsx\", index=True)\n",
    "dem16.to_excel(\"Demographics_2016.xlsx\", index=True)\n",
    "dem_all.to_excel(\"Demographics_All.xlsx\", index=True)"
   ]
  },
  {
   "cell_type": "code",
   "execution_count": null,
   "metadata": {
    "collapsed": true
   },
   "outputs": [],
   "source": [
    "#NO HEALTH INSURANCE BY 2008-2016 AVERAGE VOTING\n",
    "health = \"US County HealthIns_FINAL.csv\"\n",
    "health_df = pd.read_csv(health, encoding=\"utf-8\")\n",
    "#health_df.head()\n",
    "\n",
    "hinsurance = pd.merge(votes_df, health_df, on=\"FIPS\", how=\"inner\")\n",
    "hinsurance[hinsurance.columns] = hinsurance[hinsurance.columns].apply(pd.to_numeric, errors=\"ignore\")\n",
    "#hinsurance.head()\n",
    "\n",
    "hinsurance_df = pd.DataFrame(hinsurance.groupby([\"Party 2008-2016\"]).mean())\n",
    "#hinsurance_df.head()"
   ]
  },
  {
   "cell_type": "code",
   "execution_count": null,
   "metadata": {
    "collapsed": true
   },
   "outputs": [],
   "source": [
    "#POVERTY BY 2008-2016 AVERAGE VOTING\n",
    "poverty = \"US County Poverty_FINAL.csv\"\n",
    "pov_df = pd.read_csv(poverty, encoding=\"utf-8\")\n",
    "#pov_df.head()\n",
    "\n",
    "povertydf = pd.merge(votes_df, pov_df, on=\"FIPS\", how=\"inner\")\n",
    "povertydf[povertydf.columns] = povertydf[povertydf.columns].apply(pd.to_numeric, errors=\"ignore\")\n",
    "#povertydf.head()\n",
    "\n",
    "poverty_df = pd.DataFrame(povertydf.groupby([\"Party 2008-2016\"]).mean())\n",
    "#poverty_df.head()"
   ]
  },
  {
   "cell_type": "code",
   "execution_count": null,
   "metadata": {
    "collapsed": true
   },
   "outputs": [],
   "source": [
    "#VOTING BY COMPOSITE AND INDIVIDUAL ELECTION YEARS\n",
    "total = votes_df_yr.groupby([\"Party 2008-2016\"]).count()\n",
    "total = pd.DataFrame(total[\"County\"])\n",
    "total08 = votes_df.groupby([\"Party 2008\"]).count()\n",
    "total08 = pd.DataFrame(total08[\"County\"])\n",
    "total12 = votes_df.groupby([\"Party 2012\"]).count()\n",
    "total12 = pd.DataFrame(total12[\"State\"])\n",
    "total16 = votes_df.groupby([\"Party 2016\"]).count()\n",
    "total16 = pd.DataFrame(total16[\"State\"])\n",
    "\n",
    "merge1 = pd.merge(total, total08, left_index=True, right_index=True)\n",
    "merge2 = pd.merge(merge1, total12, left_index=True, right_index=True)\n",
    "merge3 = pd.merge(merge2, total16, left_index=True, right_index=True)\n",
    "\n",
    "#merge3 = merge3.rename(columns={\"County_x\":\"Composite\", \"County_y\":\"2008\", \"State_x\":\"2012\", \"State_y\":\"2016\"})\n",
    "merge3.head()\n",
    "\n",
    "#merge3.to_excel(\"Voting Summary.xlsx\", index=True)"
   ]
  },
  {
   "cell_type": "code",
   "execution_count": null,
   "metadata": {},
   "outputs": [],
   "source": [
    "#VOTING, EDUCATION, HEALTH INSURANCE, POVERTY BY EACH ELECTION CYCLE: 2008, 2012, 2016\n",
    "county_votes_yr = \"US County Votes_FINAL_1.csv\"\n",
    "votes_df_yr = pd.read_csv(county_votes, encoding = \"utf-8\")\n",
    "#votes_df_yr.head()\n",
    "\n",
    "master1 = pd.merge(votes_df_yr, ed_df, on=\"FIPS\", how=\"inner\")\n",
    "#master1.head()\n",
    "master2 = pd.merge(master1, health_df, on=\"FIPS\", how=\"inner\")\n",
    "#master2.head()\n",
    "master3 = pd.merge(master2, pov_df, on=\"FIPS\", how=\"inner\")\n",
    "master3[master3.columns] = master3[master3.columns].apply(pd.to_numeric, errors=\"ignore\")\n",
    "master3.head()\n",
    "\n",
    "#master08_df = master3.groupby([\"Party 2008\"]).mean()\n",
    "#master12_df = master3.groupby([\"Party 2012\"]).mean()\n",
    "#master16_df = master3.groupby([\"Party 2016\"]).mean()\n",
    "\n",
    "#master08_df.to_excel(\"Master_County_Data_2008.xlsx\", index=True)\n",
    "#master12_df.to_excel(\"Master_County_Data_2012.xlsx\", index=True)\n",
    "#master16_df.to_excel(\"Master_County_Data_2016.xlsx\", index=True)"
   ]
  },
  {
   "cell_type": "code",
   "execution_count": null,
   "metadata": {
    "collapsed": true
   },
   "outputs": [],
   "source": [
    "#UNEMPLOYMENT\n",
    "unemployment = \"US County Unemployment_FINAL.csv\"\n",
    "unemploy_df = pd.read_csv(unemployment, encoding = \"utf-8\")\n",
    "unemploy_df.head()\n",
    "\n",
    "unemployment_df = pd.merge(votes_df_yr, unemploy_df, on=\"FIPS\", how=\"inner\")\n",
    "unemployment_df.head()\n",
    "\n",
    "all_unemployment = unemployment_df.groupby([\"Party 2008-2016\"]).mean()\n",
    "\n",
    "#Export Excel files to apply bar graph template\n",
    "all_unemployment.to_excel(\"Unemployment_All.xlsx\", index=True)\n"
   ]
  }
 ],
 "metadata": {
  "kernelspec": {
   "display_name": "Python 3",
   "language": "python",
   "name": "python3"
  },
  "language_info": {
   "codemirror_mode": {
    "name": "ipython",
    "version": 3
   },
   "file_extension": ".py",
   "mimetype": "text/x-python",
   "name": "python",
   "nbconvert_exporter": "python",
   "pygments_lexer": "ipython3",
   "version": "3.6.3"
  }
 },
 "nbformat": 4,
 "nbformat_minor": 2
}
