{
 "cells": [
  {
   "cell_type": "code",
   "execution_count": 12,
   "metadata": {
    "collapsed": true
   },
   "outputs": [],
   "source": [
    "#import dependencies and modules\n",
    "import csv\n",
    "import json\n",
    "import pandas as pd\n",
    "import numpy as np\n",
    "import matplotlib.pyplot as plt\n",
    "import seaborn as sns"
   ]
  },
  {
   "cell_type": "code",
   "execution_count": 13,
   "metadata": {},
   "outputs": [
    {
     "data": {
      "text/html": [
       "<div>\n",
       "<style>\n",
       "    .dataframe thead tr:only-child th {\n",
       "        text-align: right;\n",
       "    }\n",
       "\n",
       "    .dataframe thead th {\n",
       "        text-align: left;\n",
       "    }\n",
       "\n",
       "    .dataframe tbody tr th {\n",
       "        vertical-align: top;\n",
       "    }\n",
       "</style>\n",
       "<table border=\"1\" class=\"dataframe\">\n",
       "  <thead>\n",
       "    <tr style=\"text-align: right;\">\n",
       "      <th></th>\n",
       "      <th>FIPS</th>\n",
       "      <th>County</th>\n",
       "      <th>State</th>\n",
       "      <th>Dem 2008-2016 (%)</th>\n",
       "      <th>Rep 2008-2016 (%)</th>\n",
       "      <th>Party 2008-2016</th>\n",
       "      <th>Uninsured</th>\n",
       "      <th>Total Population</th>\n",
       "    </tr>\n",
       "  </thead>\n",
       "  <tbody>\n",
       "    <tr>\n",
       "      <th>0</th>\n",
       "      <td>1001.0</td>\n",
       "      <td>Autauga County</td>\n",
       "      <td>AL</td>\n",
       "      <td>25.5</td>\n",
       "      <td>73.2</td>\n",
       "      <td>Red</td>\n",
       "      <td>0.139</td>\n",
       "      <td>52077</td>\n",
       "    </tr>\n",
       "    <tr>\n",
       "      <th>1</th>\n",
       "      <td>1003.0</td>\n",
       "      <td>Baldwin County</td>\n",
       "      <td>AL</td>\n",
       "      <td>21.7</td>\n",
       "      <td>76.7</td>\n",
       "      <td>Red</td>\n",
       "      <td>0.166</td>\n",
       "      <td>177131</td>\n",
       "    </tr>\n",
       "    <tr>\n",
       "      <th>2</th>\n",
       "      <td>1005.0</td>\n",
       "      <td>Barbour County</td>\n",
       "      <td>AL</td>\n",
       "      <td>49.0</td>\n",
       "      <td>50.3</td>\n",
       "      <td>Split</td>\n",
       "      <td>0.189</td>\n",
       "      <td>28560</td>\n",
       "    </tr>\n",
       "    <tr>\n",
       "      <th>3</th>\n",
       "      <td>1007.0</td>\n",
       "      <td>Bibb County</td>\n",
       "      <td>AL</td>\n",
       "      <td>24.7</td>\n",
       "      <td>74.2</td>\n",
       "      <td>Red</td>\n",
       "      <td>0.160</td>\n",
       "      <td>22189</td>\n",
       "    </tr>\n",
       "    <tr>\n",
       "      <th>4</th>\n",
       "      <td>1009.0</td>\n",
       "      <td>Blount County</td>\n",
       "      <td>AL</td>\n",
       "      <td>11.8</td>\n",
       "      <td>86.8</td>\n",
       "      <td>Red</td>\n",
       "      <td>0.181</td>\n",
       "      <td>57063</td>\n",
       "    </tr>\n",
       "  </tbody>\n",
       "</table>\n",
       "</div>"
      ],
      "text/plain": [
       "     FIPS          County State  Dem 2008-2016 (%)  Rep 2008-2016 (%)  \\\n",
       "0  1001.0  Autauga County    AL               25.5               73.2   \n",
       "1  1003.0  Baldwin County    AL               21.7               76.7   \n",
       "2  1005.0  Barbour County    AL               49.0               50.3   \n",
       "3  1007.0     Bibb County    AL               24.7               74.2   \n",
       "4  1009.0   Blount County    AL               11.8               86.8   \n",
       "\n",
       "  Party 2008-2016  Uninsured  Total Population  \n",
       "0             Red      0.139             52077  \n",
       "1             Red      0.166            177131  \n",
       "2           Split      0.189             28560  \n",
       "3             Red      0.160             22189  \n",
       "4             Red      0.181             57063  "
      ]
     },
     "execution_count": 13,
     "metadata": {},
     "output_type": "execute_result"
    }
   ],
   "source": [
    "us_county_df = pd.read_csv(\"US County Votes_FINAL.csv\")\n",
    "us_county_df.head()"
   ]
  },
  {
   "cell_type": "code",
   "execution_count": 14,
   "metadata": {
    "collapsed": true
   },
   "outputs": [],
   "source": [
    "#us_county_df.dropna(axis=1, how=\"all\")\n",
    "#del(us_county_df[\"Unnamed: 8\"], us_county_df[\"Unnamed: 9\"], us_county_df[\"Unnamed: 10\"])"
   ]
  },
  {
   "cell_type": "code",
   "execution_count": 15,
   "metadata": {},
   "outputs": [
    {
     "data": {
      "text/html": [
       "<div>\n",
       "<style>\n",
       "    .dataframe thead tr:only-child th {\n",
       "        text-align: right;\n",
       "    }\n",
       "\n",
       "    .dataframe thead th {\n",
       "        text-align: left;\n",
       "    }\n",
       "\n",
       "    .dataframe tbody tr th {\n",
       "        vertical-align: top;\n",
       "    }\n",
       "</style>\n",
       "<table border=\"1\" class=\"dataframe\">\n",
       "  <thead>\n",
       "    <tr style=\"text-align: right;\">\n",
       "      <th></th>\n",
       "      <th>FIPS</th>\n",
       "      <th>County</th>\n",
       "      <th>State</th>\n",
       "      <th>Dem 2008-2016 (%)</th>\n",
       "      <th>Rep 2008-2016 (%)</th>\n",
       "      <th>Party 2008-2016</th>\n",
       "      <th>Uninsured</th>\n",
       "      <th>Total Population</th>\n",
       "      <th>Pop Uninsured</th>\n",
       "      <th>Percent Uninsured (%)</th>\n",
       "    </tr>\n",
       "  </thead>\n",
       "  <tbody>\n",
       "    <tr>\n",
       "      <th>0</th>\n",
       "      <td>1001.0</td>\n",
       "      <td>Autauga County</td>\n",
       "      <td>AL</td>\n",
       "      <td>25.5</td>\n",
       "      <td>73.2</td>\n",
       "      <td>Red</td>\n",
       "      <td>0.139</td>\n",
       "      <td>52077</td>\n",
       "      <td>7238.703</td>\n",
       "      <td>13.9</td>\n",
       "    </tr>\n",
       "    <tr>\n",
       "      <th>1</th>\n",
       "      <td>1003.0</td>\n",
       "      <td>Baldwin County</td>\n",
       "      <td>AL</td>\n",
       "      <td>21.7</td>\n",
       "      <td>76.7</td>\n",
       "      <td>Red</td>\n",
       "      <td>0.166</td>\n",
       "      <td>177131</td>\n",
       "      <td>29403.746</td>\n",
       "      <td>16.6</td>\n",
       "    </tr>\n",
       "    <tr>\n",
       "      <th>2</th>\n",
       "      <td>1005.0</td>\n",
       "      <td>Barbour County</td>\n",
       "      <td>AL</td>\n",
       "      <td>49.0</td>\n",
       "      <td>50.3</td>\n",
       "      <td>Split</td>\n",
       "      <td>0.189</td>\n",
       "      <td>28560</td>\n",
       "      <td>5397.840</td>\n",
       "      <td>18.9</td>\n",
       "    </tr>\n",
       "    <tr>\n",
       "      <th>3</th>\n",
       "      <td>1007.0</td>\n",
       "      <td>Bibb County</td>\n",
       "      <td>AL</td>\n",
       "      <td>24.7</td>\n",
       "      <td>74.2</td>\n",
       "      <td>Red</td>\n",
       "      <td>0.160</td>\n",
       "      <td>22189</td>\n",
       "      <td>3550.240</td>\n",
       "      <td>16.0</td>\n",
       "    </tr>\n",
       "    <tr>\n",
       "      <th>4</th>\n",
       "      <td>1009.0</td>\n",
       "      <td>Blount County</td>\n",
       "      <td>AL</td>\n",
       "      <td>11.8</td>\n",
       "      <td>86.8</td>\n",
       "      <td>Red</td>\n",
       "      <td>0.181</td>\n",
       "      <td>57063</td>\n",
       "      <td>10328.403</td>\n",
       "      <td>18.1</td>\n",
       "    </tr>\n",
       "  </tbody>\n",
       "</table>\n",
       "</div>"
      ],
      "text/plain": [
       "     FIPS          County State  Dem 2008-2016 (%)  Rep 2008-2016 (%)  \\\n",
       "0  1001.0  Autauga County    AL               25.5               73.2   \n",
       "1  1003.0  Baldwin County    AL               21.7               76.7   \n",
       "2  1005.0  Barbour County    AL               49.0               50.3   \n",
       "3  1007.0     Bibb County    AL               24.7               74.2   \n",
       "4  1009.0   Blount County    AL               11.8               86.8   \n",
       "\n",
       "  Party 2008-2016  Uninsured  Total Population  Pop Uninsured  \\\n",
       "0             Red      0.139             52077       7238.703   \n",
       "1             Red      0.166            177131      29403.746   \n",
       "2           Split      0.189             28560       5397.840   \n",
       "3             Red      0.160             22189       3550.240   \n",
       "4             Red      0.181             57063      10328.403   \n",
       "\n",
       "   Percent Uninsured (%)  \n",
       "0                   13.9  \n",
       "1                   16.6  \n",
       "2                   18.9  \n",
       "3                   16.0  \n",
       "4                   18.1  "
      ]
     },
     "execution_count": 15,
     "metadata": {},
     "output_type": "execute_result"
    }
   ],
   "source": [
    "us_county_df[\"Pop Uninsured\"] = us_county_df[\"Total Population\"] * us_county_df[\"Uninsured\"]\n",
    "us_county_df[\"Percent Uninsured (%)\"] = (us_county_df[\"Pop Uninsured\"]/us_county_df[\"Total Population\"]) * 100\n",
    "us_county_df.head()"
   ]
  },
  {
   "cell_type": "code",
   "execution_count": 16,
   "metadata": {},
   "outputs": [],
   "source": [
    "state_uni = us_county_df.groupby(\"State\")[\"Pop Uninsured\"].sum()\n",
    "#print(state_uni)\n",
    "state_pop = us_county_df.groupby(\"State\")[\"Total Population\"].sum()\n",
    "#print(state_pop)\n",
    "percent_state = (state_uni/state_pop) * 100\n",
    "#print(round(percent_state))"
   ]
  },
  {
   "cell_type": "code",
   "execution_count": 17,
   "metadata": {
    "collapsed": true
   },
   "outputs": [],
   "source": [
    "#find unique string values and create list\n",
    "states = us_county_df[\"State\"].unique().tolist()"
   ]
  },
  {
   "cell_type": "code",
   "execution_count": 30,
   "metadata": {},
   "outputs": [
    {
     "data": {
      "image/png": "[encoded data removed]",
      "text/plain": [
       "<matplotlib.figure.Figure at 0x25d1ae76f60>"
      ]
     },
     "metadata": {},
     "output_type": "display_data"
    }
   ],
   "source": [
    "x_axis = np.arange(len(state_uni))\n",
    "tick_locations = [value for value in x_axis]\n",
    "\n",
    "#create bar chart\n",
    "fig, ax = plt.subplots(figsize=(20,10))\n",
    "rects = plt.bar(x_axis, percent_state, width=0.5, color=\"lightblue\", align=\"center\") \n",
    "plt.xlim([-1, x_axis.size]) #x-axis limit\n",
    "plt.ylim(0, 30) #y-axis limit\n",
    "plt.xticks(tick_locations, states, rotation=\"vertical\")\n",
    "\n",
    "\n",
    "#find and label the height of each bar in graph\n",
    "def autolabel(rects):\n",
    "    for rect in rects:\n",
    "        height = rect.get_height()\n",
    "        plt.text(rect.get_x()+rect.get_width()/2., 1.01*height, '%d'%int(height),\n",
    "                ha='center', va='bottom') #placement of text label above each bar\n",
    "autolabel(rects)\n",
    "\n",
    "#add title and axes labels\n",
    "plt.title(\"Percent of Uninsured Population Per US State (2016)\")\n",
    "plt.xlabel(\"States\")\n",
    "plt.ylabel(\"Uninsured Percentages (%)\")\n",
    "\n",
    "#increase font of graph\n",
    "plt.rcParams.update({'font.size': 21})\n",
    "\n",
    "#aesthetics \n",
    "sns.set_style(\"darkgrid\")\n",
    "rects[8].set_color(\"r\")\n",
    "\n",
    "plt.tight_layout()\n",
    "plt.savefig(\"US_Uninsured_Pop.png\")\n",
    "plt.show()"
   ]
  },
  {
   "cell_type": "code",
   "execution_count": 21,
   "metadata": {},
   "outputs": [
    {
     "data": {
      "text/html": [
       "<div>\n",
       "<style>\n",
       "    .dataframe thead tr:only-child th {\n",
       "        text-align: right;\n",
       "    }\n",
       "\n",
       "    .dataframe thead th {\n",
       "        text-align: left;\n",
       "    }\n",
       "\n",
       "    .dataframe tbody tr th {\n",
       "        vertical-align: top;\n",
       "    }\n",
       "</style>\n",
       "<table border=\"1\" class=\"dataframe\">\n",
       "  <thead>\n",
       "    <tr style=\"text-align: right;\">\n",
       "      <th></th>\n",
       "      <th>FIPS</th>\n",
       "      <th>County</th>\n",
       "      <th>State</th>\n",
       "      <th>Dem 2008-2016 (%)</th>\n",
       "      <th>Rep 2008-2016 (%)</th>\n",
       "      <th>Party 2008-2016</th>\n",
       "      <th>Uninsured</th>\n",
       "      <th>Total Population</th>\n",
       "      <th>Pop Uninsured</th>\n",
       "      <th>Percent Uninsured (%)</th>\n",
       "    </tr>\n",
       "  </thead>\n",
       "  <tbody>\n",
       "    <tr>\n",
       "      <th>291</th>\n",
       "      <td>12001.0</td>\n",
       "      <td>Alachua County</td>\n",
       "      <td>FL</td>\n",
       "      <td>59.0</td>\n",
       "      <td>38.5</td>\n",
       "      <td>Blue</td>\n",
       "      <td>0.204</td>\n",
       "      <td>243163</td>\n",
       "      <td>49605.252</td>\n",
       "      <td>20.4</td>\n",
       "    </tr>\n",
       "    <tr>\n",
       "      <th>292</th>\n",
       "      <td>12003.0</td>\n",
       "      <td>Baker County</td>\n",
       "      <td>FL</td>\n",
       "      <td>19.3</td>\n",
       "      <td>79.6</td>\n",
       "      <td>Red</td>\n",
       "      <td>0.179</td>\n",
       "      <td>26296</td>\n",
       "      <td>4706.984</td>\n",
       "      <td>17.9</td>\n",
       "    </tr>\n",
       "    <tr>\n",
       "      <th>293</th>\n",
       "      <td>12005.0</td>\n",
       "      <td>Bay County</td>\n",
       "      <td>FL</td>\n",
       "      <td>27.2</td>\n",
       "      <td>70.8</td>\n",
       "      <td>Red</td>\n",
       "      <td>0.210</td>\n",
       "      <td>166151</td>\n",
       "      <td>34891.710</td>\n",
       "      <td>21.0</td>\n",
       "    </tr>\n",
       "    <tr>\n",
       "      <th>294</th>\n",
       "      <td>12007.0</td>\n",
       "      <td>Bradford County</td>\n",
       "      <td>FL</td>\n",
       "      <td>27.4</td>\n",
       "      <td>71.3</td>\n",
       "      <td>Red</td>\n",
       "      <td>0.200</td>\n",
       "      <td>28680</td>\n",
       "      <td>5736.000</td>\n",
       "      <td>20.0</td>\n",
       "    </tr>\n",
       "    <tr>\n",
       "      <th>295</th>\n",
       "      <td>12009.0</td>\n",
       "      <td>Brevard County</td>\n",
       "      <td>FL</td>\n",
       "      <td>41.8</td>\n",
       "      <td>56.1</td>\n",
       "      <td>Red</td>\n",
       "      <td>0.205</td>\n",
       "      <td>538036</td>\n",
       "      <td>110297.380</td>\n",
       "      <td>20.5</td>\n",
       "    </tr>\n",
       "  </tbody>\n",
       "</table>\n",
       "</div>"
      ],
      "text/plain": [
       "        FIPS           County State  Dem 2008-2016 (%)  Rep 2008-2016 (%)  \\\n",
       "291  12001.0   Alachua County    FL               59.0               38.5   \n",
       "292  12003.0     Baker County    FL               19.3               79.6   \n",
       "293  12005.0       Bay County    FL               27.2               70.8   \n",
       "294  12007.0  Bradford County    FL               27.4               71.3   \n",
       "295  12009.0   Brevard County    FL               41.8               56.1   \n",
       "\n",
       "    Party 2008-2016  Uninsured  Total Population  Pop Uninsured  \\\n",
       "291            Blue      0.204            243163      49605.252   \n",
       "292             Red      0.179             26296       4706.984   \n",
       "293             Red      0.210            166151      34891.710   \n",
       "294             Red      0.200             28680       5736.000   \n",
       "295             Red      0.205            538036     110297.380   \n",
       "\n",
       "     Percent Uninsured (%)  \n",
       "291                   20.4  \n",
       "292                   17.9  \n",
       "293                   21.0  \n",
       "294                   20.0  \n",
       "295                   20.5  "
      ]
     },
     "execution_count": 21,
     "metadata": {},
     "output_type": "execute_result"
    }
   ],
   "source": [
    "#locate counties in FL\n",
    "florida = us_county_df.loc[us_county_df[\"State\"] == \"FL\"]\n",
    "florida.head()"
   ]
  },
  {
   "cell_type": "code",
   "execution_count": 22,
   "metadata": {},
   "outputs": [
    {
     "data": {
      "text/plain": [
       "Red      51\n",
       "Blue     10\n",
       "Split     6\n",
       "Name: Party 2008-2016, dtype: int64"
      ]
     },
     "execution_count": 22,
     "metadata": {},
     "output_type": "execute_result"
    }
   ],
   "source": [
    "#counties that voted which way\n",
    "florida[\"Party 2008-2016\"].value_counts()"
   ]
  },
  {
   "cell_type": "code",
   "execution_count": 24,
   "metadata": {},
   "outputs": [
    {
     "name": "stdout",
     "output_type": "stream",
     "text": [
      "total pop of FL: 18511850\n",
      "unisured pop of FL: 4578068.259999999\n",
      "insured pop of FL: 13933781.740000002\n",
      "--------------------------------------------------------\n",
      "percent of uninsured pop in FL: 24.730474047704572%\n",
      "percent of insured pop in FL: 75.26952595229544%\n"
     ]
    }
   ],
   "source": [
    "#number of people in FL\n",
    "total_pop = florida[\"Total Population\"].sum()\n",
    "print(\"total pop of FL: \" + str(total_pop))\n",
    "\n",
    "#number of people uninsured/insured in FL\n",
    "uni_pop = florida[\"Pop Uninsured\"].sum()\n",
    "print(\"unisured pop of FL: \" + str(uni_pop))\n",
    "\n",
    "ins_pop = total_pop - uni_pop\n",
    "print(\"insured pop of FL: \" + str(ins_pop))\n",
    "print(\"--------------------------------------------------------\")\n",
    "print(\"percent of uninsured pop in FL: \" + str((uni_pop/total_pop) * 100) + \"%\")\n",
    "print(\"percent of insured pop in FL: \" + str((ins_pop/total_pop) * 100) + \"%\")"
   ]
  },
  {
   "cell_type": "code",
   "execution_count": 25,
   "metadata": {
    "collapsed": true
   },
   "outputs": [],
   "source": [
    "#create empty lists\n",
    "dem_uni = []\n",
    "dem_pop = []\n",
    "rep_uni = []\n",
    "rep_pop = []\n",
    "split_uni = []\n",
    "split_pop = []\n",
    "\n",
    "dem_party = florida.loc[florida[\"Party 2008-2016\"] == \"Blue\"]\n",
    "dem_uni.append(dem_party[\"Pop Uninsured\"])\n",
    "dem_pop.append(dem_party[\"Total Population\"])\n",
    "\n",
    "rep_party = florida.loc[florida[\"Party 2008-2016\"] == \"Red\"]\n",
    "rep_uni.append(rep_party[\"Pop Uninsured\"])\n",
    "rep_pop.append(rep_party[\"Total Population\"])\n",
    "\n",
    "split_party = florida.loc[florida[\"Party 2008-2016\"] == \"Split\"]\n",
    "split_uni.append(split_party[\"Pop Uninsured\"])\n",
    "split_pop.append(split_party[\"Total Population\"])"
   ]
  },
  {
   "cell_type": "code",
   "execution_count": 26,
   "metadata": {},
   "outputs": [
    {
     "name": "stdout",
     "output_type": "stream",
     "text": [
      "uninsured pop in blue county: 2452123.0\n",
      "total pop in blue county: 9020160\n",
      "--------------------------------------------------------\n",
      "percent uninsured in blue county: 27.1849168973%\n",
      "uninsured pop compared to the total pop of FL: 13.2462341689%\n"
     ]
    }
   ],
   "source": [
    "#uninsured pop in counties that voted blue\n",
    "tdem_uni = sum(round(dem_uni[0]))\n",
    "print(\"uninsured pop in blue county: \" + str(tdem_uni))\n",
    "\n",
    "tdem_pop = sum(round(dem_pop[0]))\n",
    "print(\"total pop in blue county: \" + str(tdem_pop))\n",
    "print(\"--------------------------------------------------------\")\n",
    "print(\"percent uninsured in blue county: \" + str((tdem_uni/tdem_pop)*100) + \"%\")\n",
    "print(\"uninsured pop compared to the total pop of FL: \" + str((tdem_uni/total_pop)*100) + \"%\")"
   ]
  },
  {
   "cell_type": "code",
   "execution_count": 27,
   "metadata": {},
   "outputs": [
    {
     "name": "stdout",
     "output_type": "stream",
     "text": [
      "uninsured pop in red county: 1544459.0\n",
      "total pop in red county: 6871283\n",
      "--------------------------------------------------------\n",
      "percent uninsured in red county: 22.4770104797%\n",
      "uninsured pop compared to the total pop of FL: 8.34308294417%\n"
     ]
    }
   ],
   "source": [
    "#uninsured pop in counties that voted rep\n",
    "trep_uni = sum(round(rep_uni[0]))\n",
    "print(\"uninsured pop in red county: \" + str(trep_uni))\n",
    "\n",
    "trep_pop = sum(round(rep_pop[0]))\n",
    "print(\"total pop in red county: \" + str(trep_pop))\n",
    "print(\"--------------------------------------------------------\")\n",
    "print(\"percent uninsured in red county: \" + str((trep_uni/trep_pop)*100) + \"%\")\n",
    "print(\"uninsured pop compared to the total pop of FL: \" + str((trep_uni/total_pop)*100) + \"%\")"
   ]
  },
  {
   "cell_type": "code",
   "execution_count": 28,
   "metadata": {},
   "outputs": [
    {
     "name": "stdout",
     "output_type": "stream",
     "text": [
      "uninsured pop in split county: 581485.0\n",
      "total pop in split county: 2620407\n",
      "--------------------------------------------------------\n",
      "percent uninsured in split county: 22.190636798%\n",
      "uninsured pop compared to the total pop of FL: 3.14115012816%\n"
     ]
    }
   ],
   "source": [
    "#uninsured pop in counties that were split\n",
    "tsplit_uni = sum(round(split_uni[0]))\n",
    "print(\"uninsured pop in split county: \" + str(tsplit_uni))\n",
    "\n",
    "tsplit_pop = sum(round(split_pop[0]))\n",
    "print(\"total pop in split county: \" + str(tsplit_pop))\n",
    "print(\"--------------------------------------------------------\")\n",
    "print(\"percent uninsured in split county: \" + str((tsplit_uni/tsplit_pop)*100) + \"%\")\n",
    "print(\"uninsured pop compared to the total pop of FL: \" + str((tsplit_uni/total_pop)*100) + \"%\")"
   ]
  },
  {
   "cell_type": "code",
   "execution_count": null,
   "metadata": {
    "collapsed": true
   },
   "outputs": [],
   "source": []
  }
 ],
 "metadata": {
  "kernelspec": {
   "display_name": "Python 3",
   "language": "python",
   "name": "python3"
  },
  "language_info": {
   "codemirror_mode": {
    "name": "ipython",
    "version": 3
   },
   "file_extension": ".py",
   "mimetype": "text/x-python",
   "name": "python",
   "nbconvert_exporter": "python",
   "pygments_lexer": "ipython3",
   "version": "3.6.3"
  }
 },
 "nbformat": 4,
 "nbformat_minor": 2
}
